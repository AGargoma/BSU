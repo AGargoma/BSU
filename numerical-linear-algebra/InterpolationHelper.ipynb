{
 "cells": [
  {
   "cell_type": "code",
   "execution_count": 2,
   "metadata": {},
   "outputs": [],
   "source": [
    "import numpy as np\n",
    "import matplotlib.pyplot as plt\n",
    "import math\n",
    "import sympy as sp\n",
    "from tabulate import tabulate\n",
    "%matplotlib inline"
   ]
  },
  {
   "cell_type": "code",
   "execution_count": 67,
   "metadata": {},
   "outputs": [],
   "source": [
    "def solve_lin_system(a, b, c, f):\n",
    "    \"\"\"Решение СЛАУ методом прогонки\"\"\"\n",
    "\n",
    "    n = len(c)\n",
    "    x = [sp.Rational(0) for i in range(n)]\n",
    "    alpha = [sp.Rational(0) for i in range(n - 1)]\n",
    "    betta = [sp.Rational(0) for i in range(n)]\n",
    "    # Прямая прогонка\n",
    "    alpha[0] = -b[0] / c[0]\n",
    "    betta[0] = f[0] / c[0]\n",
    "    for i in range(1, n - 1):\n",
    "        alpha[i] = -b[i] / (c[i] - alpha[i - 1] * (-a[i - 1]))\n",
    "        betta[i] = (f[i] - a[i - 1] * betta[i - 1]) / (c[i] + a[i - 1] * alpha[i - 1])\n",
    "    betta[-1] = (f[-1] - a[-1] * betta[-2]) / (c[-1] + a[-1] * alpha[-1])\n",
    "\n",
    "    # Обратная прогонка\n",
    "    x[-1] = betta[-1]\n",
    "    for i in reversed(range(n - 1)):\n",
    "        x[i] = alpha[i] * x[i + 1] + betta[i]\n",
    "    print('::::::::::::::::::::::::::::::::::::::::::ПРОГОНКА::::::::::::::::::::::::::::::::::::::::::')\n",
    "    print('alpha:::::::::::::::::::::',alpha)\n",
    "    print('betta:::::::::::::::::::::',betta)\n",
    "    print('x:::::::::::::::::::::',x)\n",
    "    return np.asarray(x)\n",
    "\n",
    "\n",
    "def newton_pol(n,func,nodes):\n",
    "    y = np.full((n+1,n+2),sp.Rational(0))\n",
    "    for j in range(n+1):\n",
    "        y[j][0] = sp.nsimplify(func(nodes[j]), tolerance=0.001, rational=True)\n",
    "    for h in range(n-1,-1,-1):\n",
    "        k = n-h\n",
    "        for i in range(0,h+1):\n",
    "            y[i][k] = (y[i+1][k-1]-y[i][k-1])/(nodes[i+k]-nodes[i])\n",
    "    print(tabulate(y,tablefmt=\"pretty\", floatfmt=\".5f\"))\n",
    "    def function(x):\n",
    "        w = np.cumprod(sp.nsimplify(x-nodes, tolerance=0.001, rational=True))\n",
    "        result = y[0][0]+np.sum(np.dot(w,y[0,1:]))\n",
    "        print('coefs of newton polynomial:\\n',y[0][0],np.sum(np.dot(w,y[0,1:])),sep='\\t')\n",
    "        return result, abs(func(x)-result)\n",
    "    return function\n",
    "\n",
    "\n",
    "def get_nodes(a,b,n,chebyshev=False):\n",
    "    nodes = np.full(n+1,sp.Rational(0))\n",
    "    if chebyshev:\n",
    "        for i in range(n+1):\n",
    "            nodes[i] = (a+b)/2 + (b-a)/2*math.cos(math.pi*(2*i+1)/(2*n+2))\n",
    "    else:\n",
    "        h = (b-a)/(n)\n",
    "        nodes[0] = a\n",
    "        for i in range(1,n+1):\n",
    "            nodes[i] = nodes[i-1]+h\n",
    "    print('nodes:')\n",
    "    for i in range(n+1):\n",
    "        print(f'x_{i}=',nodes[i],end='\\t')\n",
    "    return nodes\n",
    "\n",
    "\n",
    "def upper_bound(array, key):\n",
    "    left=0\n",
    "    right = len(array)-1\n",
    "    while left < right:\n",
    "        mean = (left+right)//2\n",
    "        if key<array[mean]:\n",
    "            right = mean \n",
    "        if key>array[mean]:\n",
    "            left = mean + 1\n",
    "        if key == array[mean]:\n",
    "            return mean+1\n",
    "    return mean        \n",
    "    \n",
    "    \n",
    "def get_spline(gamma):\n",
    "    delta = np.zeros((n))\n",
    "    betta = np.zeros((n))    \n",
    "    alpha = values[1:]\n",
    "    for i in range(n):\n",
    "        delta[i] = (gamma[i+1]-gamma[i])/h_i[i]\n",
    "        betta[i] = (values[i+1]-values[i])/h_i[i]+(2*gamma[i+1]+gamma[i])*h_i[i]/6\n",
    "    print('::::::::::::::::::::::::::::::::::::::::::SPLINE::::::::::::::::::::::::::::::::::::::::::')\n",
    "    print('delta:::::::::::::::::::::',delta)\n",
    "    print('betta:::::::::::::::::::::',betta)\n",
    "    print('alpha:::::::::::::::::::::',alpha)\n",
    "    def spline(x):\n",
    "        idx = upper_bound(nodes,x)\n",
    "        return alpha[idx]+betta[idx]*(x-nodes[idx+1])+gamma[idx+1]/2*(x-nodes[idx+1])**2+delta[idx]/6*(x-nodes[idx+1])**3\n",
    "        \n",
    "    return spline"
   ]
  },
  {
   "cell_type": "code",
   "execution_count": 99,
   "metadata": {},
   "outputs": [],
   "source": [
    "def func(x):\n",
    "    return math.sin(x+1/2)\n",
    "a,b = sp.Rational(0),sp.Rational(math.pi/2)\n",
    "n = 3\n",
    "h = (b-a)/n\n",
    "sfunc = sp.cos(t+t**2)\n",
    "drvtv1 = sp.lambdify(t,sp.diff(sfunc,t))\n",
    "drvtv2 = sp.lambdify(t,sp.diff(sfunc,t,t))\n",
    "\n",
    "nodes = np.array([0,1,2,4])\n",
    "vfunc = np.vectorize(func)\n",
    "values = np.array([2,3,5,10])\n",
    "coefs = np.zeros((n+1,n+1))\n",
    "column = np.zeros((n+1,1))\n",
    "h_i = np.array([sp.nsimplify(nodes[i+1]-nodes[i], tolerance=0.001,rational=True) for i in range(n)])\n",
    "differences = np.array([sp.nsimplify((values[i+1]-values[i])/h_i[i], tolerance=0.001,rational=True) for i in range(n)])\n",
    "for i in range(1,n):\n",
    "    coefs[i][i-1] = h_i[i-1]/(h_i[i-1]+h_i[i])\n",
    "    coefs[i][i] = sp.Rational(2)\n",
    "    coefs[i][i+1] = h_i[i]/(h_i[i-1]+h_i[i])\n",
    "    column[i] = 6*(differences[i]-differences[i-1])/(h_i[i-1]+h_i[i])"
   ]
  },
  {
   "cell_type": "code",
   "execution_count": 100,
   "metadata": {},
   "outputs": [
    {
     "name": "stdout",
     "output_type": "stream",
     "text": [
      "[[0.         0.         0.         0.        ]\n",
      " [0.5        2.         0.5        0.        ]\n",
      " [0.         0.33333333 2.         0.66666667]\n",
      " [0.         0.         0.         0.        ]]\n",
      "[[0.]\n",
      " [3.]\n",
      " [1.]\n",
      " [0.]]\n",
      "a: [-1/3, 0] \n",
      "c: [2, 2] \n",
      "b: [-1/2, -2/3]\n",
      "::::::::::::::::::::::::::::::::::::::::::ПРОГОНКА::::::::::::::::::::::::::::::::::::::::::\n",
      "alpha::::::::::::::::::::: [1/4]\n",
      "betta::::::::::::::::::::: [array([1.50000000000000], dtype=object), array([0.500000000000000], dtype=object)]\n",
      "x::::::::::::::::::::: [1.62500000000000, array([0.500000000000000], dtype=object)]\n",
      "::::::::::::::::::::::::::::::::::::::::::SPLINE::::::::::::::::::::::::::::::::::::::::::\n",
      "delta::::::::::::::::::::: [ 1.625 -1.125 -0.25 ]\n",
      "betta::::::::::::::::::::: [1.54166667 2.4375     2.66666667]\n",
      "alpha::::::::::::::::::::: [ 3  5 10]\n",
      "gamma: [0 1.62500000000000 array([0.500000000000000], dtype=object) 0]\n",
      "nodes:\n",
      "x_0= 1.51101145143231\tx_1= 1.08595702833962\tx_2= 0.484839298455275\tx_3= 0.0597848753625906\t-------  --------  --------  --------  -------\n",
      "0.90466  -0.22430  -0.48904  -0.04600  0.00000\n",
      "1.00000   0.27754  -0.42229   0.00000  0.00000\n",
      "0.83317   0.71088   0.00000   0.00000  0.00000\n",
      "0.53100   0.00000   0.00000   0.00000  0.00000\n",
      "-------  --------  --------  --------  -------\n"
     ]
    },
    {
     "data": {
      "text/plain": [
       "<function __main__.newton_pol.<locals>.function(x)>"
      ]
     },
     "execution_count": 100,
     "metadata": {},
     "output_type": "execute_result"
    }
   ],
   "source": [
    "# natural case\n",
    "print(coefs)\n",
    "print(column)\n",
    "a_coef = [sp.nsimplify(-coefs[i+1][i], tolerance=0.001,rational=True) for i in range(1,n)]\n",
    "c_coef = [sp.nsimplify(coefs[i][i], tolerance=0.001,rational=True) for i in range(1,n)]\n",
    "b_coef = [sp.nsimplify(-coefs[i][i+1], tolerance=0.001,rational=True) for i in range(1,n)]\n",
    "print('a:', a_coef,'\\nc:',c_coef,'\\nb:',b_coef)\n",
    "gamma1 = solve_lin_system(a_coef,b_coef,c_coef,column[1:-1])\n",
    "gamma1 = np.insert(gamma1,0,0)\n",
    "gamma1 = np.insert(gamma1, n,0)\n",
    "spline1 = get_spline(gamma1)\n",
    "print('gamma:',gamma1)\n",
    "newton_pol(n,func,get_nodes(a,b,n,chebyshev=True))"
   ]
  },
  {
   "cell_type": "markdown",
   "metadata": {},
   "source": [
    "### first order drvtv case\n",
    "\n",
    "coefs[0][0] = 2\n",
    "coefs[0][1] = 1\n",
    "column[0] = 6/h_i[0]*(differences[0]-drvtv1(a))\n",
    "\n",
    "coefs[n][n-1] = 1\n",
    "coefs[n][n] = 2\n",
    "column[n] = 6/h_i[n-1]*(drvtv1(b)-differences[n-1])\n",
    "a_coef = [-coefs[i+1][i] for i in range(n+1)]\n",
    "c_coef = [coefs[i][i] for i in range(n+1)]\n",
    "b_coef = [-coefs[i][i+1] for i in range(n+1)]\n",
    "print('a:', a_coef,'\\nc:',c_coef,'\\nb:',b_coef)\n",
    "gamma1 = solve_lin_system(a_coef,b_coef,c_coef,column[1:-1])\n",
    "gamma1 = np.insert(gamma1,0,0)\n",
    "gamma1 = np.insert(gamma1, n,0)\n",
    "spline1 = get_spline(gamma1)\n",
    "print('gamma:',gamma1)\n",
    "newton_pol(n,func,get_nodes(a,b,n))\n",
    "gamma1 = np.linalg.solve(coefs,column)\n",
    "# alpha1, betta1, delta1 = get_rest_coefs(gamma1)\n",
    "spline1 = get_spline(gamma1)\n"
   ]
  },
  {
   "cell_type": "code",
   "execution_count": 66,
   "metadata": {},
   "outputs": [
    {
     "data": {
      "image/png": "[encoded data removed]",
      "text/latex": [
       "$\\displaystyle \\frac{49}{20}$"
      ],
      "text/plain": [
       "49\n",
       "──\n",
       "20"
      ]
     },
     "execution_count": 66,
     "metadata": {},
     "output_type": "execute_result"
    }
   ],
   "source": [
    "sp.nsimplify(2.45, tolerance=0.001,rational=True)"
   ]
  }
 ],
 "metadata": {
  "kernelspec": {
   "display_name": "Python 3",
   "language": "python",
   "name": "python3"
  },
  "language_info": {
   "codemirror_mode": {
    "name": "ipython",
    "version": 3
   },
   "file_extension": ".py",
   "mimetype": "text/x-python",
   "name": "python",
   "nbconvert_exporter": "python",
   "pygments_lexer": "ipython3",
   "version": "3.7.5"
  }
 },
 "nbformat": 4,
 "nbformat_minor": 4
}
